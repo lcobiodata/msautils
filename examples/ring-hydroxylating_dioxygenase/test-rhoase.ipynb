{
 "cells": [
  {
   "cell_type": "code",
   "execution_count": null,
   "metadata": {
    "collapsed": true
   },
   "outputs": [],
   "source": [
    "from protlearn import *\n",
    "\n",
    "# Create data frame from raw data and clean it\n",
    "msa_file = 'alignment.fasta'\n",
    "msa = MSA()\n",
    "msa.parse_msa_file(msa_file)\n",
    "msa.cleanse_data(plot=True)\n",
    "msa.analyse(plot=True)\n",
    "msa.reduce()\n",
    "msa.get_labels(plot=True)\n",
    "msa.select_features(plot=True)\n",
    "msa.get_clusters(plot=True)"
   ]
  },
  {
   "cell_type": "code",
   "execution_count": null,
   "outputs": [],
   "source": [
    "import os\n",
    "from Bio.Seq import Seq\n",
    "from Bio.SeqRecord import SeqRecord\n",
    "from Bio.Align import MultipleSeqAlignment\n",
    "\n",
    "\n",
    "unique_labels = set(msa.labels)\n",
    "\n",
    "for label in unique_labels:\n",
    "    # Filter sequences based on the cluster label\n",
    "    cluster_sequences = msa.data[msa.labels == label]\n",
    "\n",
    "    # Select only the columns corresponding to selected_columns\n",
    "    cluster_sequences = cluster_sequences[selected_columns]\n",
    "\n",
    "    # Concatenate rows into strings\n",
    "    cluster_sequences['Sequence'] = cluster_sequences.apply(lambda row: ''.join(row), axis=1)\n",
    "\n",
    "    # Convert the sequences into a list of SeqRecord objects\n",
    "    seq_records = []\n",
    "    for i, seq_str in enumerate(cluster_sequences['Sequence']):\n",
    "        # Modify the input sequence to match the weblogo alphabet (uppercase)\n",
    "        seq_str = seq_str.upper()\n",
    "        seq = Seq(seq_str)\n",
    "        seq_record = SeqRecord(seq, id=f'Seq{i+1}', description=f'Cluster {label}')\n",
    "        seq_records.append(seq_record)\n",
    "\n",
    "    # Create a MultipleSeqAlignment from the SeqRecord objects\n",
    "    alignment = MultipleSeqAlignment(seq_records)\n",
    "\n",
    "    # Export the alignment to a FASTA file\n",
    "    output_file = f'output/subalignments/alignment_cluster_{label}.fasta'\n",
    "    with open(output_file, 'w') as fasta_file:\n",
    "        for record in alignment:\n",
    "            fasta_file.write(f'>{record.id} {record.description}\\n{record.seq}\\n')\n"
   ],
   "metadata": {
    "collapsed": false
   }
  }
 ],
 "metadata": {
  "kernelspec": {
   "display_name": "Python 3",
   "language": "python",
   "name": "python3"
  },
  "language_info": {
   "codemirror_mode": {
    "name": "ipython",
    "version": 2
   },
   "file_extension": ".py",
   "mimetype": "text/x-python",
   "name": "python",
   "nbconvert_exporter": "python",
   "pygments_lexer": "ipython2",
   "version": "2.7.6"
  }
 },
 "nbformat": 4,
 "nbformat_minor": 0
}
