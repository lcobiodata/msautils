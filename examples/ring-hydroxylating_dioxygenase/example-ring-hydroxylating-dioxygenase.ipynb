{
 "cells": [
  {
   "cell_type": "markdown",
   "source": [
    "# Case study: Ring-hydroxylating Dioxygenases\n",
    "\n",
    "# Table of Contents\n",
    "\n",
    "* [protlearn](#protlearn)\n",
    "  * [MSA](#protlearn.MSA)\n",
    "    * [\\_\\_init\\_\\_](#protlearn.MSA.__init__)\n",
    "    * [parse\\_msa\\_file](#protlearn.MSA.parse_msa_file)\n",
    "    * [map\\_positions](#protlearn.MSA.map_positions)\n",
    "    * [cleanse\\_data](#protlearn.MSA.cleanse_data)\n",
    "    * [reduce](#protlearn.MSA.reduce)\n",
    "    * [label\\_sequences](#protlearn.MSA.label_sequences)\n",
    "    * [generate\\_wordclouds](#protlearn.MSA.generate_wordclouds)\n",
    "    * [select\\_features](#protlearn.MSA.select_features)\n",
    "    * [select\\_residues](#protlearn.MSA.select_residues)\n",
    "    * [generate\\_logos](#protlearn.MSA.generate_logos)\n",
    "  * [main](#protlearn.main)\n",
    "  * [parse\\_args](#protlearn.parse_args)\n",
    "* [Manual Steps](#manual_steps)  <!-- Add this line to link to the manual section -->\n"
   ],
   "metadata": {
    "collapsed": false
   }
  },
  {
   "cell_type": "markdown",
   "source": [
    "<a id=\"protlearn\"></a>\n",
    "\n",
    "# protlearn\n",
    "\n",
    "Protlearn is a module that applies Machine Learning techniques to extract meaningful information from\n",
    "Multiple Sequence Alignments (MSA) of homologous protein families.\n",
    "\n",
    "Copyright (C) 2023, Lucas Carrijo de Oliveira (lucas@ebi.ac.uk)\n",
    "\n",
    "This program is free software: you can redistribute it and/or modify\n",
    "it under the terms of the GNU General Public License as published by\n",
    "the Free Software Foundation, either version 3 of the License, or\n",
    "(at your option) any later version.\n",
    "\n",
    "This program is distributed in the hope that it will be useful,\n",
    "but WITHOUT ANY WARRANTY; without even the implied warranty of\n",
    "MERCHANTABILITY or FITNESS FOR A PARTICULAR PURPOSE.  See the\n",
    "GNU General Public License for more details.\n",
    "\n",
    "You should have received a copy of the GNU General Public License\n",
    "along with this program.  If not, see <https://www.gnu.org/licenses/>.\n"
   ],
   "metadata": {
    "collapsed": false
   }
  },
  {
   "cell_type": "code",
   "execution_count": null,
   "outputs": [],
   "source": [
    "from protlearn import *"
   ],
   "metadata": {
    "collapsed": false
   }
  },
  {
   "cell_type": "markdown",
   "source": [
    "\n",
    "<a id=\"protlearn.MSA\"></a>\n",
    "## MSA Objects\n",
    "\n",
    "```python\n",
    "class MSA(pd.DataFrame)\n",
    "```\n",
    "\n",
    "A class for processing and analyzing Multiple Sequence Alignments (MSA).\n",
    "\n",
    "<a id=\"protlearn.MSA.__init__\"></a>\n",
    "\n",
    "#### \\_\\_init\\_\\_\n",
    "\n",
    "```python\n",
    "def __init__(*args, **kwargs)\n",
    "```\n",
    "\n",
    "Initialize the MSA object.\n",
    "\n",
    "**Arguments**:\n",
    "\n",
    "- `*args` - Variable-length positional arguments.\n",
    "- `**kwargs` - Variable-length keyword arguments.\n"
   ],
   "metadata": {
    "collapsed": false
   }
  },
  {
   "cell_type": "code",
   "execution_count": null,
   "outputs": [],
   "source": [
    "# Create a dummy class `Args` that pretends to be `argparse` so `args` would work in this Jupyter notebook.\n",
    "class Args:\n",
    "    def __init__(self):\n",
    "        self.msa_file = \"pf00848-alignment.fasta\"\n",
    "        self.plot_cleanse = True  # Set to True or False as needed\n",
    "        self.plot_reduce = True   # Set to True or False as needed\n",
    "        self.plot_label = True    # Set to True or False as needed\n",
    "        self.plot_wordclouds = True  # Set to True or False as needed\n",
    "        self.plot_select_features = True  # Set to True or False as needed\n",
    "        self.plot_select_residues = True  # Set to True or False as needed\n",
    "        self.plot_logos = True    # Set to True or False as needed\n",
    "\n",
    "# Create an instance of the Args class\n",
    "args = Args()\n",
    "# Create data frame from raw data and clean it\n",
    "msa_file = args.msa_file\n",
    "msa = MSA()"
   ],
   "metadata": {
    "collapsed": false
   }
  },
  {
   "cell_type": "markdown",
   "source": [
    "\n",
    "<a id=\"protlearn.MSA.parse_msa_file\"></a>\n",
    "#### parse\\_msa\\_file\n",
    "\n",
    "```python\n",
    "def parse_msa_file(msa_file, msa_format=\"fasta\", *args, **kwargs)\n",
    "```\n",
    "\n",
    "Parse an MSA file and store the raw data in the MSA object.\n",
    "\n",
    "**Arguments**:\n",
    "\n",
    "- `msa_file` _str_ - The path to the MSA file.\n",
    "- `msa_format` _str, optional_ - The format of the MSA file (default is \"fasta\").\n",
    "- `*args` - Additional positional arguments to pass to SeqIO.parse.\n",
    "- `**kwargs` - Additional keyword arguments to pass to SeqIO.parse.\n"
   ],
   "metadata": {
    "collapsed": false
   }
  },
  {
   "cell_type": "code",
   "execution_count": null,
   "outputs": [],
   "source": [
    "msa.parse_msa_file(msa_file)"
   ],
   "metadata": {
    "collapsed": false
   }
  },
  {
   "cell_type": "markdown",
   "source": [
    "\n",
    "<a id=\"protlearn.MSA.map_positions\"></a>\n",
    "#### map\\_positions\n",
    "\n",
    "```python\n",
    "def map_positions()\n",
    "```\n",
    "\n",
    "Map residue positions in the Multiple Sequence Alignment (MSA) based on sequence headers.\n",
    "\n",
    "This method calculates the position of each residue in the MSA sequences and stores\n",
    "the mapping in the 'positions_map' attribute of the MSA object. The mapping is\n",
    "based on the sequence headers, which typically include information about the\n",
    "sequence's starting position.\n",
    "\n",
    "The 'positions_map' is a dictionary with sequence headers as keys and a sub-dictionary\n",
    "as values. The sub-dictionary contains MSA columns (keys) and their corresponding\n",
    "positions (values).\n",
    "\n",
    "For example:\n",
    "{\n",
    "  'Seq1/1-100': {1: 1, 2: 2, ...},\n",
    "  'Seq2/101-200': {101: 1, 102: 2, ...},\n",
    "...\n",
    "}\n",
    "\n",
    "This mapping is useful for downstream analysis that requires knowing the position\n",
    "of residues in the MSA.\n",
    "\n",
    "**Notes**:\n",
    "\n",
    "  - Residues represented by '-' (indels/gaps) are not included in the mapping.\n",
    "\n",
    "\n",
    "**Example**:\n",
    "\n",
    "  msa = MSA()\n",
    "  msa.parse_msa_file('example.fasta')\n",
    "  msa.map_positions()\n",
    "\n",
    "  Access the mapping:\n",
    "  positions = msa.positions_map\n"
   ],
   "metadata": {
    "collapsed": false
   }
  },
  {
   "cell_type": "code",
   "execution_count": null,
   "outputs": [],
   "source": [
    "msa.map_positions()"
   ],
   "metadata": {
    "collapsed": false
   }
  },
  {
   "cell_type": "markdown",
   "source": [
    "\n",
    "<a id=\"protlearn.MSA.cleanse_data\"></a>\n",
    "#### cleanse\\_data\n",
    "\n",
    "```python\n",
    "def cleanse_data(indel='-', remove_lowercase=True, threshold=.9, plot=False)\n",
    "```\n",
    "\n",
    "Cleanse the MSA data by removing columns and rows with missing values.\n",
    "\n",
    "**Arguments**:\n",
    "\n",
    "- `indel` _str, optional_ - The character representing gaps/indels (default is '-').\n",
    "- `remove_lowercase` _bool, optional_ - Whether to remove lowercase characters (default is True).\n",
    "- `threshold` _float, optional_ - The threshold for missing values (default is 0.9).\n",
    "- `plot` _bool, optional_ - Whether to plot a heatmap of missing values (default is False).\n"
   ],
   "metadata": {
    "collapsed": false
   }
  },
  {
   "cell_type": "code",
   "execution_count": null,
   "outputs": [],
   "source": [
    "msa.cleanse_data(plot=args.plot_cleanse)"
   ],
   "metadata": {
    "collapsed": false
   }
  },
  {
   "cell_type": "markdown",
   "source": [
    "\n",
    "<a id=\"protlearn.MSA.reduce\"></a>\n",
    "#### reduce\n",
    "\n",
    "```python\n",
    "def reduce(plot=False, *args, **kwargs)\n",
    "```\n",
    "\n",
    "Perform Multidimensional Correspondence Analysis (MCA) on the MSA data to reduce dimensionality.\n",
    "\n",
    "**Arguments**:\n",
    "\n",
    "- `plot` _bool, optional_ - Whether to plot the results (default is False).\n",
    "  *args, **kwargs: Additional arguments and keyword arguments for the MCA.\n",
    "\n",
    "\n",
    "**Notes**:\n",
    "\n",
    "  - Multidimensional Correspondence Analysis (MCA) is used to reduce the dimensionality of the MSA data.\n",
    "  - The MCA results are stored in the 'analysis' attribute of the MSA object.\n",
    "  - The row coordinates after reduction are stored in the 'coordinates' attribute.\n",
    "\n",
    "\n",
    "**Example**:\n",
    "\n",
    "  msa = MSA()\n",
    "  msa.parse_msa_file('example.fasta')\n",
    "  msa.map_positions()\n",
    "  msa.cleanse_data()\n",
    "  msa.reduce(plot=True)"
   ],
   "metadata": {
    "collapsed": false
   }
  },
  {
   "cell_type": "code",
   "execution_count": null,
   "outputs": [],
   "source": [
    "msa.reduce(n_components=2, plot=args.plot_reduce)"
   ],
   "metadata": {
    "collapsed": false
   }
  },
  {
   "cell_type": "markdown",
   "source": [
    "\n",
    "<a id=\"protlearn.MSA.label_sequences\"></a>\n",
    "#### label\\_sequences\n",
    "\n",
    "```python\n",
    "def label_sequences(min_clusters=2,\n",
    "                    max_clusters=10,\n",
    "                    method='single-linkage',\n",
    "                    plot=False)\n",
    "```\n",
    "\n",
    "Cluster the MSA data and obtain cluster labels.\n",
    "\n",
    "**Arguments**:\n",
    "\n",
    "- `min_clusters` _int, optional_ - Minimum number of clusters (default is 2).\n",
    "- `max_clusters` _int, optional_ - Maximum number of clusters (default is 10).\n",
    "- `method` _str, optional_ - Clustering method ('k-means' or 'single-linkage') (default is 'single-linkage').\n",
    "- `plot` _bool, optional_ - Whether to plot the clustering results (default is False).\n",
    "\n",
    "\n",
    "**Notes**:\n",
    "\n",
    "  - This method performs clustering on the MSA data and assigns cluster labels to sequences.\n",
    "  - Clustering can be done using either k-means or single-linkage methods.\n",
    "  - The optimal number of clusters is determined using silhouette scores.\n",
    "  - The cluster labels are stored in the 'labels' attribute of the MSA object.\n",
    "\n",
    "\n",
    "**Example**:\n",
    "\n",
    "  msa = MSA()\n",
    "  msa.parse_msa_file('example.fasta')\n",
    "  msa.map_positions()\n",
    "  msa.cleanse_data()\n",
    "  msa.label_sequences(method='single-linkage', min_clusters=3, plot=True)\n",
    "\n",
    "<a id=\"protlearn.MSA.generate_wordclouds\"></a>"
   ],
   "metadata": {
    "collapsed": false
   }
  },
  {
   "cell_type": "code",
   "execution_count": null,
   "outputs": [],
   "source": [
    "msa.label_sequences(method='single-linkage', min_clusters=3, plot=args.plot_label)"
   ],
   "metadata": {
    "collapsed": false
   }
  },
  {
   "cell_type": "markdown",
   "source": [
    "#### generate\\_wordclouds\n",
    "\n",
    "```python\n",
    "def generate_wordclouds(path_to_metadata=None,\n",
    "                        column='Protein names',\n",
    "                        plot=False)\n",
    "```\n",
    "\n",
    "Generate word cloud visualizations from protein names in a DataFrame.\n",
    "\n",
    "**Arguments**:\n",
    "\n",
    "- `path_to_metadata` _str, default=None_ - Path to metadata file in tsv format.\n",
    "- `column` _str, default='Protein names'_ - The name of the column in the DataFrame containing protein names.\n",
    "- `plot` _bool, default=False_ - Whether to plot word clouds.\n",
    "\n",
    "  This method extracts substrate and enzyme names from the specified column using regular expressions,\n",
    "  normalizes the names, and creates word cloud plots for each cluster of sequences.\n",
    "\n",
    "\n",
    "**Example**:\n",
    "\n",
    "  msa = MSA()\n",
    "  msa.parse_msa_file('example.fasta')\n",
    "  msa.map_positions()\n",
    "  msa.cleanse_data()\n",
    "  msa.label_sequences(method='single-linkage', min_clusters=3)\n",
    "  msa.generate_wordclouds(path_to_metadata='metadata.tsv', plot=True)"
   ],
   "metadata": {
    "collapsed": false
   }
  },
  {
   "cell_type": "code",
   "execution_count": null,
   "outputs": [],
   "source": [
    "msa.generate_wordclouds(path_to_metadata='pf00848-metadata.tsv', plot=args.plot_wordclouds)"
   ],
   "metadata": {
    "collapsed": false
   }
  },
  {
   "cell_type": "markdown",
   "source": [
    "\n",
    "<a id=\"protlearn.MSA.select_features\"></a>\n",
    "#### select\\_features\n",
    "\n",
    "```python\n",
    "def select_features(n_estimators=None, random_state=None, plot=False)\n",
    "```\n",
    "\n",
    "Select important features (residues) from the MSA data.\n",
    "\n",
    "**Arguments**:\n",
    "\n",
    "- `n_estimators` _int, optional_ - Parameter n_estimators for RandomForest.\n",
    "- `random_state` - (int, optional): Parameter random_state for RandomForest.\n",
    "- `plot` _bool, optional_ - Whether to plot feature selection results (default is False)."
   ],
   "metadata": {
    "collapsed": false
   }
  },
  {
   "cell_type": "code",
   "execution_count": null,
   "outputs": [],
   "source": [
    "msa.select_features(n_estimators=1000, random_state=42, plot=args.plot_select_features)"
   ],
   "metadata": {
    "collapsed": false
   }
  },
  {
   "cell_type": "markdown",
   "source": [
    "<a id=\"protlearn.MSA.select_residues\"></a>\n",
    "\n",
    "#### select\\_residues\n",
    "\n",
    "```python\n",
    "def select_residues(threshold=0.9, top_n=None, plot=False)\n",
    "```\n",
    "\n",
    "Select and store residues to be candidates for Specificity-determining Positions (SDPs) from the MSA data.\n",
    "\n",
    "**Arguments**:\n",
    "\n",
    "- `threshold` _float, optional_ - The threshold for selecting residues based on importance (default is 0.9).\n",
    "- `top_n` _int, optional_ - The top N residues to select based on importance (default is None).\n",
    "- `plot` _bool, optional_ - Whether to plot the selected residues (default is False)."
   ],
   "metadata": {
    "collapsed": false
   }
  },
  {
   "cell_type": "code",
   "execution_count": null,
   "outputs": [],
   "source": [
    "msa.select_residues(top_n=3, plot=args.plot_select_residues)"
   ],
   "metadata": {
    "collapsed": false
   }
  },
  {
   "cell_type": "markdown",
   "source": [
    "<a id=\"protlearn.MSA.generate_logos\"></a>\n",
    "\n",
    "#### generate\\_logos\n",
    "\n",
    "```python\n",
    "def generate_logos(plot=False)\n",
    "```\n",
    "\n",
    "Generate logos from the MSA data for each cluster label.\n",
    "\n",
    "**Arguments**:\n",
    "\n",
    "- `plot` _bool, optional_ - Whether to plot the generated logos (default is False)."
   ],
   "metadata": {
    "collapsed": false
   }
  },
  {
   "cell_type": "code",
   "execution_count": null,
   "outputs": [],
   "source": [
    "msa.generate_logos(plot=args.plot_logos)"
   ],
   "metadata": {
    "collapsed": false
   }
  },
  {
   "cell_type": "markdown",
   "source": [],
   "metadata": {
    "collapsed": false
   }
  },
  {
   "cell_type": "markdown",
   "source": [
    "<a id=\"manual_steps\"></a>\n",
    "\n",
    "### Manual steps:\n",
    "**Attention!** The following snippets are not implemented in `protlearn` module. From now on, these are manual steps specific to this case study."
   ],
   "metadata": {
    "collapsed": false
   }
  },
  {
   "cell_type": "code",
   "execution_count": null,
   "outputs": [],
   "source": [],
   "metadata": {
    "collapsed": false
   }
  },
  {
   "cell_type": "code",
   "execution_count": null,
   "outputs": [],
   "source": [],
   "metadata": {
    "collapsed": false
   }
  },
  {
   "cell_type": "code",
   "execution_count": null,
   "outputs": [],
   "source": [
    "import json\n",
    "for header in msa.positions_map.keys():\n",
    "    if 'BPHA1_RHOJR' in header:\n",
    "        print(header, json.dumps(msa.positions_map[header], indent=4))\n",
    "        break"
   ],
   "metadata": {
    "collapsed": false
   }
  },
  {
   "cell_type": "code",
   "execution_count": null,
   "outputs": [],
   "source": [
    "known_structure = [\n",
    "    'TPDA2_COMSP',\n",
    "    'BPHA1_RHOJR',\n",
    "    'NDOB_PSEU8',\n",
    "    'NDOB_PSEPU',\n",
    "    'NAGG_RALSP',\n",
    "    'CNTA_ACIB2',\n",
    "    'BNZA_PSEP1',\n",
    "    'BPHA_PARXL',\n",
    "    'BPHA_COMTE',\n",
    "]\n",
    "have_structure = []\n",
    "for header in msa.profiles.index:\n",
    "    if header.split('/')[0] in known_structure:\n",
    "        have_structure.append(header)\n",
    "msa.profiles[msa.profiles.index.isin(have_structure)]"
   ],
   "metadata": {
    "collapsed": false
   }
  },
  {
   "cell_type": "code",
   "execution_count": null,
   "outputs": [],
   "source": [
    "# !pip install nglview\n",
    "!pip install --upgrade nglview"
   ],
   "metadata": {
    "collapsed": false
   }
  },
  {
   "cell_type": "code",
   "execution_count": null,
   "outputs": [],
   "source": [
    "import nglview as nv\n",
    "\n",
    "# Load the PDB structure with the ID '1ULI'\n",
    "pdb_id = '1ULI'\n",
    "view = nv.show_pdbid(pdb_id)\n",
    "\n",
    "# Define a selection string for the residues you want to highlight\n",
    "selection_str = 'residue 220 or residue 330 or residue 377'\n",
    "\n",
    "# Add a representation to highlight the selected residues (e.g., color them red)\n",
    "view.add_representation('ball+stick', selection=selection_str, color='red')\n",
    "\n",
    "# Display the updated structure\n",
    "view"
   ],
   "metadata": {
    "collapsed": false
   }
  }
 ],
 "metadata": {
  "kernelspec": {
   "display_name": "Python 3",
   "language": "python",
   "name": "python3"
  },
  "language_info": {
   "codemirror_mode": {
    "name": "ipython",
    "version": 2
   },
   "file_extension": ".py",
   "mimetype": "text/x-python",
   "name": "python",
   "nbconvert_exporter": "python",
   "pygments_lexer": "ipython2",
   "version": "2.7.6"
  }
 },
 "nbformat": 4,
 "nbformat_minor": 0
}
