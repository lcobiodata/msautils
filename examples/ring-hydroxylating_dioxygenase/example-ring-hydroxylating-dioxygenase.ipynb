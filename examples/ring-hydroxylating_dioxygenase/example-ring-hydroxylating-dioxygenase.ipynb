{
 "cells": [
  {
   "cell_type": "markdown",
   "source": [
    "## Ring-hydroxylating Dioxygenases"
   ],
   "metadata": {
    "collapsed": false
   }
  },
  {
   "cell_type": "code",
   "execution_count": null,
   "outputs": [],
   "source": [
    "from protlearn import *"
   ],
   "metadata": {
    "collapsed": false
   }
  },
  {
   "cell_type": "code",
   "execution_count": null,
   "outputs": [],
   "source": [
    "# Create data frame from raw data and clean it\n",
    "msa_file = 'pf00848-alignment.fasta'\n",
    "msa = MSA()\n",
    "msa.parse_msa_file(msa_file)\n",
    "print(msa.raw_data.info)"
   ],
   "metadata": {
    "collapsed": false
   }
  },
  {
   "cell_type": "code",
   "execution_count": null,
   "outputs": [],
   "source": [
    "msa.map_positions()\n",
    "print(msa.positions_map.keys())\n",
    "# import json\n",
    "# for header in msa.positions_map.keys():\n",
    "#     if 'BPHA1_RHOJR' in header:\n",
    "#         print(json.dumps(msa.positions_map[header], indent=4))\n",
    "#         break"
   ],
   "metadata": {
    "collapsed": false
   }
  },
  {
   "cell_type": "code",
   "execution_count": null,
   "outputs": [],
   "source": [
    "msa.cleanse_data(plot=True)\n",
    "print(msa.data.info)"
   ],
   "metadata": {
    "collapsed": false
   }
  },
  {
   "cell_type": "markdown",
   "source": [],
   "metadata": {
    "collapsed": false
   }
  },
  {
   "cell_type": "code",
   "execution_count": null,
   "outputs": [],
   "source": [
    "msa.reduce(plot=True)\n",
    "print(msa.coordinates.shape)"
   ],
   "metadata": {
    "collapsed": false
   }
  },
  {
   "cell_type": "code",
   "execution_count": null,
   "outputs": [],
   "source": [
    "msa.label_sequences(method='single-linkage', min_clusters=4, plot=True)\n",
    "print(msa.labels)"
   ],
   "metadata": {
    "collapsed": false
   }
  },
  {
   "cell_type": "code",
   "execution_count": null,
   "outputs": [],
   "source": [
    "msa.generate_wordclouds(path_to_metadata='pf00848-metadata.tsv', plot=True)"
   ],
   "metadata": {
    "collapsed": false
   }
  },
  {
   "cell_type": "code",
   "execution_count": null,
   "outputs": [],
   "source": [
    "# Perform feature selection on data\n",
    "msa.select_features(n_estimators=10000, random_state=42, plot=True)\n",
    "print(msa.selected_features)"
   ],
   "metadata": {
    "collapsed": false
   }
  },
  {
   "cell_type": "code",
   "execution_count": null,
   "outputs": [],
   "source": [
    "msa.select_residues(top_n=3, plot=True)\n",
    "print(msa.profiles)"
   ],
   "metadata": {
    "collapsed": false
   }
  },
  {
   "cell_type": "code",
   "execution_count": null,
   "outputs": [],
   "source": [
    "msa.generate_logos(plot=True)"
   ],
   "metadata": {
    "collapsed": false
   }
  },
  {
   "cell_type": "code",
   "execution_count": null,
   "outputs": [],
   "source": [
    "msa.generate_visualizations()"
   ],
   "metadata": {
    "collapsed": false
   }
  }
 ],
 "metadata": {
  "kernelspec": {
   "display_name": "Python 3",
   "language": "python",
   "name": "python3"
  },
  "language_info": {
   "codemirror_mode": {
    "name": "ipython",
    "version": 2
   },
   "file_extension": ".py",
   "mimetype": "text/x-python",
   "name": "python",
   "nbconvert_exporter": "python",
   "pygments_lexer": "ipython2",
   "version": "2.7.6"
  }
 },
 "nbformat": 4,
 "nbformat_minor": 0
}
