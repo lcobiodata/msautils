{
 "cells": [
  {
   "cell_type": "markdown",
   "metadata": {},
   "source": [
    "# Case study: Ring-hydroxylating Dioxygenases\n",
    "\n",
    "# Table of Contents\n",
    "\n",
    "* [protlearn](#protlearn)\n",
    "  * [MSA](#protlearn.MSA)\n",
    "    * [\\_\\_init\\_\\_](#protlearn.MSA.__init__)\n",
    "    * [map\\_positions](#protlearn.MSA.map_positions)\n",
    "    * [cleanse](#protlearn.MSA.cleanse)\n",
    "    * [reduce](#protlearn.MSA.reduce)\n",
    "    * [cluster\\_sequences](#protlearn.MSA.cluster_sequences)\n",
    "    * [generate\\_wordclouds](#protlearn.MSA.generate_wordclouds)\n",
    "    * [select\\_features](#protlearn.MSA.select_features)\n",
    "    * [select\\_residues](#protlearn.MSA.select_residues)\n",
    "    * [generate\\_logos](#protlearn.MSA.generate_logos)\n",
    "* [Manual Steps](#manual_steps)  <!-- Add this line to link to the manual section -->\n"
   ]
  },
  {
   "cell_type": "markdown",
   "metadata": {},
   "source": [
    "<a id=\"protlearn\"></a>\n",
    "\n",
    "# protlearn\n",
    "\n",
    "Protlearn is a module that applies Machine Learning techniques to extract meaningful information from\n",
    "Multiple Sequence Alignments (MSA) of homologous protein families.\n",
    "\n",
    "Copyright (C) 2023, Lucas Carrijo de Oliveira (lucas@ebi.ac.uk)\n",
    "\n",
    "This program is free software: you can redistribute it and/or modify\n",
    "it under the terms of the GNU General Public License as published by\n",
    "the Free Software Foundation, either version 3 of the License, or\n",
    "(at your option) any later version.\n",
    "\n",
    "This program is distributed in the hope that it will be useful,\n",
    "but WITHOUT ANY WARRANTY; without even the implied warranty of\n",
    "MERCHANTABILITY or FITNESS FOR A PARTICULAR PURPOSE.  See the\n",
    "GNU General Public License for more details.\n",
    "\n",
    "You should have received a copy of the GNU General Public License\n",
    "along with this program.  If not, see <https://www.gnu.org/licenses/>.\n"
   ]
  },
  {
   "cell_type": "code",
   "execution_count": 1,
   "metadata": {
    "ExecuteTime": {
     "end_time": "2023-09-27T01:09:53.511139Z",
     "start_time": "2023-09-27T01:09:51.206133Z"
    }
   },
   "outputs": [
    {
     "name": "stderr",
     "output_type": "stream",
     "text": [
      "[nltk_data] Downloading package punkt to /Users/lucas/nltk_data...\n",
      "[nltk_data]   Package punkt is already up-to-date!\n",
      "[nltk_data] Downloading package stopwords to /Users/lucas/nltk_data...\n",
      "[nltk_data]   Package stopwords is already up-to-date!\n",
      "[nltk_data] Downloading package wordnet to /Users/lucas/nltk_data...\n",
      "[nltk_data]   Package wordnet is already up-to-date!\n",
      "[nltk_data] Downloading package omw-1.4 to /Users/lucas/nltk_data...\n",
      "[nltk_data]   Package omw-1.4 is already up-to-date!\n"
     ]
    }
   ],
   "source": [
    "from protlearn import *"
   ]
  },
  {
   "cell_type": "markdown",
   "metadata": {},
   "source": [
    "\n",
    "<a id=\"protlearn.MSA\"></a>\n",
    "## MSA Objects\n",
    "\n",
    "```python\n",
    "class MSA(pd.DataFrame)\n",
    "```\n",
    "\n",
    "A class for processing and analyzing Multiple Sequence Alignments (MSA).\n",
    "\n",
    "<a id=\"protlearn.MSA.__init__\"></a>\n",
    "\n",
    "#### \\_\\_init\\_\\_\n",
    "\n",
    "```python\n",
    "def __init__(self, msa_file, msa_format=\"fasta\", *args, **kwargs)\n",
    "```\n",
    "\n",
    "Initialize the MSA object.\n",
    "\n",
    "**Arguments**:\n",
    "\n",
    "- `msa_file` _str_ - The path to the MSA file.\n",
    "- `msa_format` _str, optional_ - The format of the MSA file (default is \"fasta\").\n",
    "- `*args` - Additional positional arguments to pass to SeqIO.parse.\n",
    "- `**kwargs` - Additional keyword arguments to pass to SeqIO.parse.\n"
   ]
  },
  {
   "cell_type": "code",
   "execution_count": 2,
   "metadata": {
    "ExecuteTime": {
     "end_time": "2023-09-27T01:09:56.002752Z",
     "start_time": "2023-09-27T01:09:53.514950Z"
    }
   },
   "outputs": [
    {
     "name": "stdout",
     "output_type": "stream",
     "text": [
      "Data from pf00848-alignment.fasta contains 9381 sequences and 1225 columns\n"
     ]
    }
   ],
   "source": [
    "# Create a dummy class `Args` that pretends to be `argparse` so `args` works in this Jupyter notebook.\n",
    "class Args:\n",
    "    def __init__(self):\n",
    "        self.msa_file = \"pf00848-alignment.fasta\"\n",
    "        self.metadata_file = \"pf00848-metadata.tsv\"\n",
    "        self.plot = True  # Set to True or False as needed\n",
    "        self.save = True   # Set to True or False as needed\n",
    "        self.show = True    # Set to True or False as needed\n",
    "# Create an instance of the Args class\n",
    "args = Args()\n",
    "# Create data frame from raw data and clean it\n",
    "msa = MSA(args.msa_file)\n",
    "n_rows, n_columns = msa.shape\n",
    "print(f\"Data from {args.msa_file} contains {n_rows} sequences and {n_columns} columns\")"
   ]
  },
  {
   "cell_type": "markdown",
   "metadata": {},
   "source": [
    "\n",
    "<a id=\"protlearn.MSA.map_positions\"></a>\n",
    "#### map\\_positions\n",
    "\n",
    "```python\n",
    "def map_positions()\n",
    "```\n",
    "\n",
    "Map residue positions in the Multiple Sequence Alignment (MSA) based on sequence headers.\n",
    "\n",
    "This method calculates the position of each residue in the MSA sequences and stores\n",
    "the mapping in the 'positions_map' attribute of the MSA object. The mapping is\n",
    "based on the sequence headers, which typically include information about the\n",
    "sequence's starting position.\n",
    "\n",
    "The 'positions_map' is a dictionary with sequence headers as keys and a sub-dictionary\n",
    "as values. The sub-dictionary contains MSA columns (keys) and their corresponding\n",
    "positions (values).\n",
    "\n",
    "For example:\n",
    "{\n",
    "    'Seq1/1-100': {21: 1, 25: 2, ...},\n",
    "    'Seq2/171-432': {101: 171, 103: 172, ...},\n",
    "    ...\n",
    "}\n",
    "\n",
    "This mapping is useful for downstream analysis that requires knowing the position\n",
    "of residues in the MSA.\n",
    "\n",
    "**Notes**:\n",
    "\n",
    "  - Residues represented by '-' (indels/gaps) are not included in the mapping.\n",
    "\n",
    "\n",
    "**Example**:\n",
    "\n",
    "  msa = MSA()\n",
    "  msa.parse_msa_file('example.fasta')\n",
    "  msa.map_positions()\n",
    "\n",
    "  Access the mapping:\n",
    "  positions = msa.positions_map\n"
   ]
  },
  {
   "cell_type": "code",
   "execution_count": 3,
   "metadata": {
    "ExecuteTime": {
     "end_time": "2023-09-27T01:09:57.203059Z",
     "start_time": "2023-09-27T01:09:56.021027Z"
    }
   },
   "outputs": [],
   "source": [
    "msa.map_positions()"
   ]
  },
  {
   "cell_type": "markdown",
   "metadata": {},
   "source": [
    "\n",
    "<a id=\"protlearn.MSA.cleanse\"></a>\n",
    "#### cleanse\\_data\n",
    "\n",
    "```python\n",
    "def cleanse(indel='-', remove_lowercase=True, threshold=.9, plot=False, save=False, show=False)\n",
    "```\n",
    "\n",
    "Cleanse the MSA data by removing columns and rows with missing values.\n",
    "\n",
    "**Arguments**:\n",
    "\n",
    "- `indel` _str, optional_ - The character representing gaps/indels (default is '-').\n",
    "- `remove_lowercase` _bool, optional_ - Whether to remove lowercase characters (default is True).\n",
    "- `threshold` _float, optional_ - The threshold for missing values (default is 0.9).\n",
    "- `plot` _bool, optional_ - Whether to plot a heatmap of missing values (default is False).\n"
   ]
  },
  {
   "cell_type": "code",
   "execution_count": null,
   "metadata": {
    "is_executing": true,
    "ExecuteTime": {
     "start_time": "2023-09-27T01:09:57.589869Z"
    }
   },
   "outputs": [],
   "source": [
    "msa.cleanse(plot=args.plot, show=args.show)\n",
    "print(f\"Before removing null values: {msa.dirty.shape}\")\n",
    "print(f\"After removing null values: {msa.clean.shape}\")\n",
    "print(f\"After removing duplicates: {msa.unique_sequences.shape}\")"
   ]
  },
  {
   "cell_type": "markdown",
   "metadata": {},
   "source": [
    "\n",
    "<a id=\"protlearn.MSA.reduce\"></a>\n",
    "#### reduce\n",
    "\n",
    "```python\n",
    "def reduce(plot=False, *args, **kwargs)\n",
    "```\n",
    "\n",
    "Perform Multidimensional Correspondence Analysis (MCA) on the MSA data to reduce dimensionality.\n",
    "\n",
    "**Arguments**:\n",
    "\n",
    "- `plot` _bool, optional_ - Whether to plot the results (default is False).\n",
    "  *args, **kwargs: Additional arguments and keyword arguments for the MCA.\n",
    "\n",
    "\n",
    "**Notes**:\n",
    "\n",
    "  - Multidimensional Correspondence Analysis (MCA) is used to reduce the dimensionality of the MSA data.\n",
    "  - The MCA results are stored in the 'analysis' attribute of the MSA object.\n",
    "  - The row coordinates after reduction are stored in the 'coordinates' attribute.\n",
    "\n",
    "\n",
    "**Example**:\n",
    "\n",
    "  msa = MSA('example.fasta')\n",
    "  msa.map_positions()\n",
    "  msa.cleanse()\n",
    "  msa.reduce(plot=True)"
   ]
  },
  {
   "cell_type": "code",
   "execution_count": null,
   "metadata": {
    "is_executing": true
   },
   "outputs": [],
   "source": [
    "msa.reduce(n_components=2, plot=args.plot)\n",
    "print(f\"Dimensions reduced from {msa.unique_sequences.shape} to {msa.coordinates.shape}\")"
   ]
  },
  {
   "cell_type": "markdown",
   "metadata": {},
   "source": [
    "\n",
    "<a id=\"protlearn.MSA.cluster_sequences\"></a>\n",
    "#### label\\_sequences\n",
    "\n",
    "```python\n",
    "def cluster_sequences(min_clusters=2,\n",
    "                    max_clusters=10,\n",
    "                    method='single-linkage',\n",
    "                    plot=False, save=False, show=False)\n",
    "```\n",
    "\n",
    "Cluster the MSA data and obtain cluster labels.\n",
    "\n",
    "**Arguments**:\n",
    "\n",
    "- `min_clusters` _int, optional_ - Minimum number of clusters (default is 2).\n",
    "- `max_clusters` _int, optional_ - Maximum number of clusters (default is 10).\n",
    "- `method` _str, optional_ - Clustering method ('k-means' or 'single-linkage') (default is 'single-linkage').\n",
    "- `plot` _bool, optional_ - Whether to plot the clustering results (default is False).\n",
    "\n",
    "\n",
    "**Notes**:\n",
    "\n",
    "  - This method performs clustering on the MSA data and assigns cluster labels to sequences.\n",
    "  - Clustering can be done using either k-means or single-linkage methods.\n",
    "  - The optimal number of clusters is determined using silhouette scores.\n",
    "  - The cluster labels are stored in the 'labels' attribute of the MSA object.\n",
    "\n",
    "\n",
    "**Example**:\n",
    "\n",
    "  msa = MSA('example.fasta')\n",
    "  msa.map_positions()\n",
    "  msa.cleanse()\n",
    "  msa.cluster_sequences(method='single-linkage', min_clusters=3, plot=True)\n",
    "\n",
    "<a id=\"protlearn.MSA.generate_wordclouds\"></a>"
   ]
  },
  {
   "cell_type": "code",
   "execution_count": null,
   "metadata": {
    "is_executing": true
   },
   "outputs": [],
   "source": [
    "msa.cluster_sequences(method='single-linkage', min_clusters=3)"
   ]
  },
  {
   "cell_type": "markdown",
   "metadata": {},
   "source": [
    "#### generate\\_wordclouds\n",
    "\n",
    "```python\n",
    "def generate_wordclouds(path_to_metadata=None,\n",
    "                        column='Protein names',\n",
    "                        plot=False, save=False, show=False)\n",
    "```\n",
    "\n",
    "Generate word cloud visualizations from protein names in a DataFrame.\n",
    "\n",
    "**Arguments**:\n",
    "\n",
    "- `path_to_metadata` _str, default=None_ - Path to metadata file in tsv format.\n",
    "- `column` _str, default='Protein names'_ - The name of the column in the DataFrame containing protein names.\n",
    "- `plot` _bool, default=False_ - Whether to plot word clouds.\n",
    "\n",
    "  This method extracts substrate and enzyme names from the specified column using regular expressions,\n",
    "  normalizes the names, and creates word cloud plots for each cluster of sequences.\n",
    "\n",
    "\n",
    "**Example**:\n",
    "\n",
    "  msa = MSA('example.fasta')\n",
    "  msa.map_positions()\n",
    "  msa.cleanse()\n",
    "  msa.cluster_sequences(method='single-linkage', min_clusters=3)\n",
    "  msa.generate_wordclouds(path_to_metadata='metadata.tsv', plot=True)"
   ]
  },
  {
   "cell_type": "code",
   "execution_count": null,
   "metadata": {
    "is_executing": true
   },
   "outputs": [],
   "source": [
    "msa.generate_wordclouds(path_to_metadata=args.metadata_file, plot=args.plot, show=args.show)"
   ]
  },
  {
   "cell_type": "markdown",
   "metadata": {},
   "source": [
    "\n",
    "<a id=\"protlearn.MSA.select_features\"></a>\n",
    "#### select\\_features\n",
    "\n",
    "```python\n",
    "def select_features(n_estimators=None, random_state=None, plot=False, save=False, show=False)\n",
    "```\n",
    "\n",
    "Select important features (residues) from the MSA data.\n",
    "\n",
    "**Arguments**:\n",
    "\n",
    "- `n_estimators` _int, optional_ - Parameter n_estimators for RandomForest.\n",
    "- `random_state` - (int, optional): Parameter random_state for RandomForest.\n",
    "- `plot` _bool, optional_ - Whether to plot feature selection results (default is False)."
   ]
  },
  {
   "cell_type": "code",
   "execution_count": null,
   "metadata": {
    "is_executing": true
   },
   "outputs": [],
   "source": [
    "msa.select_features(n_estimators=1000, random_state=42, plot=args.plot, show=args.show)"
   ]
  },
  {
   "cell_type": "markdown",
   "metadata": {},
   "source": [
    "<a id=\"protlearn.MSA.select_residues\"></a>\n",
    "\n",
    "#### select\\_residues\n",
    "\n",
    "```python\n",
    "def select_residues(threshold=0.9, top_n=None, plot=False, save=False, show=False)\n",
    "```\n",
    "\n",
    "Select and store residues to be candidates for Specificity-determining Positions (SDPs) from the MSA data.\n",
    "\n",
    "**Arguments**:\n",
    "\n",
    "- `threshold` _float, optional_ - The threshold for selecting residues based on importance (default is 0.9).\n",
    "- `top_n` _int, optional_ - The top N residues to select based on importance (default is None).\n",
    "- `plot` _bool, optional_ - Whether to plot the selected residues (default is False)."
   ]
  },
  {
   "cell_type": "code",
   "execution_count": null,
   "metadata": {
    "is_executing": true
   },
   "outputs": [],
   "source": [
    "msa.select_residues(top_n=3, plot=args.plot, show=args.show)"
   ]
  },
  {
   "cell_type": "markdown",
   "metadata": {},
   "source": [
    "<a id=\"protlearn.MSA.generate_logos\"></a>\n",
    "\n",
    "#### generate\\_logos\n",
    "\n",
    "```python\n",
    "def generate_logos(plot=False, save=False, show=False)\n",
    "```\n",
    "\n",
    "Generate logos from the MSA data for each cluster label.\n",
    "\n",
    "**Arguments**:\n",
    "\n",
    "- `plot` _bool, optional_ - Whether to plot the generated logos (default is False)."
   ]
  },
  {
   "cell_type": "code",
   "execution_count": null,
   "metadata": {
    "is_executing": true
   },
   "outputs": [],
   "source": [
    "msa.generate_logos(plot=args.plot, show=args.show)"
   ]
  },
  {
   "cell_type": "markdown",
   "metadata": {},
   "source": []
  },
  {
   "cell_type": "markdown",
   "metadata": {},
   "source": [
    "<a id=\"manual_steps\"></a>\n",
    "\n",
    "### Manual steps:\n",
    "**Attention!** The following snippets are not implemented in `protlearn` module. From now on, these are manual steps specific to this case study."
   ]
  },
  {
   "cell_type": "markdown",
   "metadata": {},
   "source": [
    "<a id=\"filter-sequences\"></a>\n",
    "\n",
    "### Filter Sequences with Known Structures\n",
    "\n",
    "The following code snippet filters sequences from the `msa.profiles` DataFrame based on whether their header contains a known structure from the `known_structure` [list](https://www.uniprot.org/uniprotkb?query=pf00848&facets=proteins_with%3A1%2Creviewed%3Atrue). Sequences with headers matching those in the `known_structure` list are retained in the filtered DataFrame."
   ]
  },
  {
   "cell_type": "code",
   "execution_count": null,
   "metadata": {
    "is_executing": true
   },
   "outputs": [],
   "source": [
    "known_structure = [\n",
    "    'TPDA2_COMSP',\n",
    "    'BPHA1_RHOJR',\n",
    "    'NDOB_PSEU8',\n",
    "    'NDOB_PSEPU',\n",
    "    'NAGG_RALSP',\n",
    "    'CNTA_ACIB2',\n",
    "    'BNZA_PSEP1',\n",
    "    'BPHA_PARXL',\n",
    "    'BPHA_COMTE',\n",
    "]\n",
    "have_structure = []\n",
    "\n",
    "# Iterate through headers and filter sequences with known structures\n",
    "for header in msa.profiles.index:\n",
    "    if header.split('/')[0] in known_structure:\n",
    "        have_structure.append(header)\n",
    "\n",
    "# Filter and display the sequences with known structures\n",
    "filtered_sequences = msa.profiles[msa.profiles.index.isin(have_structure)]\n",
    "filtered_sequences"
   ]
  },
  {
   "cell_type": "markdown",
   "metadata": {},
   "source": [
    "<a id=\"visualize-structure\"></a>\n",
    "\n",
    "### Visualize Protein Structure with Residue Highlights\n",
    "\n",
    "In the following code, we use the `nglview` library to visualize a protein structure loaded from the Protein Data Bank (PDB). We load the PDB structure with the ID '1ULI,' which corresponds to 'BPHA1_RHOJR/174-441.'\n",
    "```python\n",
    "import nglview as nv\n",
    "\n",
    "# Load the PDB structure with the ID '1ULI' (correspondent to BPHA_PARXL/183-451).\n",
    "pdb_id = '1ULI'\n",
    "view = nv.show_pdbid(pdb_id)\n",
    "view.update_representation(opacity=0.5)\n",
    "\n",
    "# Define a list of selections for the residues you want to highlight in different chains\n",
    "sdps, chains = (220, 330, 377), ('A', 'C', 'E')\n",
    "selection_str = \":{} and ( {} or {} or {} )\"\n",
    "\n",
    "# Iterate over the selections and add representations one at a time\n",
    "for chain in chains:\n",
    "#     view.add_surface(selection_str.format(chain, *sdps), color='black')\n",
    "    view.add_representation('ball+stick', selection=selection_str.format(chain, *sdps), color='black')\n",
    "    view.add_representation('label', selection=selection_str.format(chain, *sdps), color='red')\n",
    "\n",
    "# Display the updated structure\n",
    "view\n"
   ]
  },
  {
   "cell_type": "code",
   "execution_count": null,
   "metadata": {
    "is_executing": true
   },
   "outputs": [],
   "source": [
    "from IPython.display import display, Image\n",
    "# Load an image from a file\n",
    "image_path = \"examples/ring-hydroxylating_dioxygenase/output/molecule-zoom-out.png\"  # Replace with the path to your image file\n",
    "image = Image(filename=image_path)\n",
    "\n",
    "# Display the image\n",
    "display(image)"
   ]
  }
 ],
 "metadata": {
  "kernelspec": {
   "display_name": "Python 3 (ipykernel)",
   "language": "python",
   "name": "python3"
  },
  "language_info": {
   "codemirror_mode": {
    "name": "ipython",
    "version": 3
   },
   "file_extension": ".py",
   "mimetype": "text/x-python",
   "name": "python",
   "nbconvert_exporter": "python",
   "pygments_lexer": "ipython3",
   "version": "3.10.9"
  }
 },
 "nbformat": 4,
 "nbformat_minor": 1
}
